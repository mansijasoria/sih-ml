{
 "cells": [
  {
   "cell_type": "code",
   "execution_count": 2,
   "metadata": {
    "id": "rALI06-oHusw"
   },
   "outputs": [],
   "source": [
    "import numpy as np\n",
    "import pandas as pd\n",
    "from sklearn.model_selection import train_test_split\n",
    "from sklearn.feature_extraction.text import TfidfVectorizer\n",
    "from sklearn.linear_model import LogisticRegression\n",
    "from sklearn.metrics import accuracy_score"
   ]
  },
  {
   "cell_type": "code",
   "execution_count": 3,
   "metadata": {
    "id": "CpStHH8KNcYB"
   },
   "outputs": [],
   "source": [
    "# loading the data from csv file to a pandas Dataframe\n",
    "raw_mail_data = pd.read_csv('dataset.csv')"
   ]
  },
  {
   "cell_type": "code",
   "execution_count": 4,
   "metadata": {
    "colab": {
     "base_uri": "https://localhost:8080/"
    },
    "id": "pdn-7VE2NxsZ",
    "outputId": "28c19d96-23a2-43c0-86ad-5c1aee7f1b58"
   },
   "outputs": [
    {
     "name": "stdout",
     "output_type": "stream",
     "text": [
      "       Category                                            Message\n",
      "0          True  But what has the bomb to do with what I wish y...\n",
      "1          True              The bomb was approached with caution.\n",
      "2          True  The road was ripped open, as if by a massive b...\n",
      "3          True  He wasn't about to believe Death until he saw ...\n",
      "4          True  Colin finds an unexploded bomb in the Leisure ...\n",
      "...         ...                                                ...\n",
      "52411     False  She fell in love with a trapper and he took he...\n",
      "52412     False                          Maybe love was like that.\n",
      "52413     False       Oh, I'd love to come here and fish sometime.\n",
      "52414     False  Mary had never been the jealous type, but then...\n",
      "52415     False  Was she blinded by love now, or had she merely...\n",
      "\n",
      "[52416 rows x 2 columns]\n"
     ]
    }
   ],
   "source": [
    "print(raw_mail_data)"
   ]
  },
  {
   "cell_type": "code",
   "execution_count": 5,
   "metadata": {
    "id": "yhakjIE1N011"
   },
   "outputs": [],
   "source": [
    "# replace the null values with a null string\n",
    "mail_data = raw_mail_data.where((pd.notnull(raw_mail_data)),'')"
   ]
  },
  {
   "cell_type": "code",
   "execution_count": 6,
   "metadata": {
    "colab": {
     "base_uri": "https://localhost:8080/",
     "height": 202
    },
    "id": "SJey6H-SOWeK",
    "outputId": "af1b0dfd-2ff9-4af9-cfcd-d0c177dd6ab9"
   },
   "outputs": [
    {
     "data": {
      "text/html": [
       "<div>\n",
       "<style scoped>\n",
       "    .dataframe tbody tr th:only-of-type {\n",
       "        vertical-align: middle;\n",
       "    }\n",
       "\n",
       "    .dataframe tbody tr th {\n",
       "        vertical-align: top;\n",
       "    }\n",
       "\n",
       "    .dataframe thead th {\n",
       "        text-align: right;\n",
       "    }\n",
       "</style>\n",
       "<table border=\"1\" class=\"dataframe\">\n",
       "  <thead>\n",
       "    <tr style=\"text-align: right;\">\n",
       "      <th></th>\n",
       "      <th>Category</th>\n",
       "      <th>Message</th>\n",
       "    </tr>\n",
       "  </thead>\n",
       "  <tbody>\n",
       "    <tr>\n",
       "      <th>0</th>\n",
       "      <td>True</td>\n",
       "      <td>But what has the bomb to do with what I wish y...</td>\n",
       "    </tr>\n",
       "    <tr>\n",
       "      <th>1</th>\n",
       "      <td>True</td>\n",
       "      <td>The bomb was approached with caution.</td>\n",
       "    </tr>\n",
       "    <tr>\n",
       "      <th>2</th>\n",
       "      <td>True</td>\n",
       "      <td>The road was ripped open, as if by a massive b...</td>\n",
       "    </tr>\n",
       "    <tr>\n",
       "      <th>3</th>\n",
       "      <td>True</td>\n",
       "      <td>He wasn't about to believe Death until he saw ...</td>\n",
       "    </tr>\n",
       "    <tr>\n",
       "      <th>4</th>\n",
       "      <td>True</td>\n",
       "      <td>Colin finds an unexploded bomb in the Leisure ...</td>\n",
       "    </tr>\n",
       "  </tbody>\n",
       "</table>\n",
       "</div>"
      ],
      "text/plain": [
       "   Category                                            Message\n",
       "0      True  But what has the bomb to do with what I wish y...\n",
       "1      True              The bomb was approached with caution.\n",
       "2      True  The road was ripped open, as if by a massive b...\n",
       "3      True  He wasn't about to believe Death until he saw ...\n",
       "4      True  Colin finds an unexploded bomb in the Leisure ..."
      ]
     },
     "execution_count": 6,
     "metadata": {},
     "output_type": "execute_result"
    }
   ],
   "source": [
    "# printing the first 5 rows of the dataframe\n",
    "mail_data.head()"
   ]
  },
  {
   "cell_type": "code",
   "execution_count": 7,
   "metadata": {
    "colab": {
     "base_uri": "https://localhost:8080/"
    },
    "id": "IbK82N2gOdar",
    "outputId": "4d1840a1-22b5-468f-d4d0-a4528ef4313c"
   },
   "outputs": [
    {
     "data": {
      "text/plain": [
       "(52416, 2)"
      ]
     },
     "execution_count": 7,
     "metadata": {},
     "output_type": "execute_result"
    }
   ],
   "source": [
    "# checking the number of rows and columns in the dataframe\n",
    "mail_data.shape"
   ]
  },
  {
   "cell_type": "code",
   "execution_count": 8,
   "metadata": {
    "id": "9EW7QSgeOt4p"
   },
   "outputs": [],
   "source": [
    "# label spam mail as 1;  ham mail as 0;\n",
    "\n",
    "mail_data.loc[mail_data['Category'] == 'True', 'Category',] = 1\n",
    "mail_data.loc[mail_data['Category'] == 'False', 'Category',] = 0"
   ]
  },
  {
   "cell_type": "markdown",
   "metadata": {
    "id": "uxZK1fWwPwII"
   },
   "source": [
    "true here - ie 1 sus\n",
    "\n",
    "false here - ie 0 non sus"
   ]
  },
  {
   "cell_type": "code",
   "execution_count": 9,
   "metadata": {
    "id": "t8Rt-FaNPtPE"
   },
   "outputs": [],
   "source": [
    "# separating the data as texts and label\n",
    "\n",
    "X = mail_data['Message']\n",
    "\n",
    "Y = mail_data['Category']"
   ]
  },
  {
   "cell_type": "code",
   "execution_count": 10,
   "metadata": {
    "colab": {
     "base_uri": "https://localhost:8080/"
    },
    "id": "QnQeUBGtQPP7",
    "outputId": "a2640f4b-2a1d-4742-9742-3ecbb6017668"
   },
   "outputs": [
    {
     "name": "stdout",
     "output_type": "stream",
     "text": [
      "0        But what has the bomb to do with what I wish y...\n",
      "1                    The bomb was approached with caution.\n",
      "2        The road was ripped open, as if by a massive b...\n",
      "3        He wasn't about to believe Death until he saw ...\n",
      "4        Colin finds an unexploded bomb in the Leisure ...\n",
      "                               ...                        \n",
      "52411    She fell in love with a trapper and he took he...\n",
      "52412                            Maybe love was like that.\n",
      "52413         Oh, I'd love to come here and fish sometime.\n",
      "52414    Mary had never been the jealous type, but then...\n",
      "52415    Was she blinded by love now, or had she merely...\n",
      "Name: Message, Length: 52416, dtype: object\n"
     ]
    }
   ],
   "source": [
    "print(X)"
   ]
  },
  {
   "cell_type": "code",
   "execution_count": 11,
   "metadata": {
    "colab": {
     "base_uri": "https://localhost:8080/"
    },
    "id": "cuWDNy5KQQjY",
    "outputId": "1a0a109b-d63a-4cf0-fe4e-b486f1d3d623"
   },
   "outputs": [
    {
     "name": "stdout",
     "output_type": "stream",
     "text": [
      "0         True\n",
      "1         True\n",
      "2         True\n",
      "3         True\n",
      "4         True\n",
      "         ...  \n",
      "52411    False\n",
      "52412    False\n",
      "52413    False\n",
      "52414    False\n",
      "52415    False\n",
      "Name: Category, Length: 52416, dtype: object\n"
     ]
    }
   ],
   "source": [
    "print(Y)"
   ]
  },
  {
   "cell_type": "markdown",
   "metadata": {
    "id": "jvHyqdH8QZPH"
   },
   "source": [
    "Splitting the data into training data & test data"
   ]
  },
  {
   "cell_type": "code",
   "execution_count": 12,
   "metadata": {
    "id": "RO2GmbSNQSQH"
   },
   "outputs": [],
   "source": [
    "X_train, X_test, Y_train, Y_test = train_test_split(X, Y, test_size=0.2, random_state=3)"
   ]
  },
  {
   "cell_type": "code",
   "execution_count": 13,
   "metadata": {
    "colab": {
     "base_uri": "https://localhost:8080/"
    },
    "id": "tS2c7A4NRa46",
    "outputId": "5d44247f-65d0-457d-8a94-0fd8b45a3b72"
   },
   "outputs": [
    {
     "name": "stdout",
     "output_type": "stream",
     "text": [
      "(52416,)\n",
      "(41932,)\n",
      "(10484,)\n"
     ]
    }
   ],
   "source": [
    "print(X.shape)\n",
    "print(X_train.shape)\n",
    "print(X_test.shape)"
   ]
  },
  {
   "cell_type": "markdown",
   "metadata": {
    "id": "wYQpiACGSBYM"
   },
   "source": [
    "Feature Extraction"
   ]
  },
  {
   "cell_type": "code",
   "execution_count": 14,
   "metadata": {
    "id": "nLs847nSRibm"
   },
   "outputs": [],
   "source": [
    "# transform the text data to feature vectors that can be used as input to the Logistic regression\n",
    "\n",
    "feature_extraction = TfidfVectorizer(min_df = 1, stop_words='english', lowercase='True')\n",
    "\n",
    "X_train_features = feature_extraction.fit_transform(X_train)\n",
    "X_test_features = feature_extraction.transform(X_test)\n",
    "\n",
    "# convert Y_train and Y_test values as integers\n",
    "\n",
    "Y_train = Y_train.astype('int')\n",
    "Y_test = Y_test.astype('int')"
   ]
  },
  {
   "cell_type": "code",
   "execution_count": 15,
   "metadata": {
    "id": "dBMAcw9RUkUY"
   },
   "outputs": [
    {
     "name": "stdout",
     "output_type": "stream",
     "text": [
      "21133    Mom would have been horrified to see her do th...\n",
      "3984     Above this is the kamarchin, a tunic of colore...\n",
      "38046    The same phenomena have been witnessed, not on...\n",
      "2915     This example is similar to cases among the Pol...\n",
      "7967       Well, technically I have to eat, just not food.\n",
      "                               ...                        \n",
      "25544    Revelation is a divine source of knowledge, of...\n",
      "48056    Abul Fazl died by the hand of an assassin, whi...\n",
      "11513    They can make you laugh, lust or cry with lyri...\n",
      "1688     Spiritual death is their goal and their cackli...\n",
      "5994     While he must beware of hasty speech, he has o...\n",
      "Name: Message, Length: 41932, dtype: object\n"
     ]
    }
   ],
   "source": [
    "print(X_train)"
   ]
  },
  {
   "cell_type": "code",
   "execution_count": 16,
   "metadata": {
    "id": "1NFuGogZUpt0"
   },
   "outputs": [
    {
     "name": "stdout",
     "output_type": "stream",
     "text": [
      "  (0, 4354)\t0.24489889618490185\n",
      "  (0, 4726)\t0.3218501497073004\n",
      "  (0, 7627)\t0.5282227133660254\n",
      "  (0, 5136)\t0.5553124652782079\n",
      "  (0, 6759)\t0.4990449306141462\n",
      "  (1, 11208)\t0.2627566245892988\n",
      "  (1, 7938)\t0.17696005376460877\n",
      "  (1, 8304)\t0.23096110712357404\n",
      "  (1, 11426)\t0.15369539145561134\n",
      "  (1, 10437)\t0.12940925506614978\n",
      "  (1, 474)\t0.1852860122975374\n",
      "  (1, 3680)\t0.2627566245892988\n",
      "  (1, 4720)\t0.21321692732779993\n",
      "  (1, 10987)\t0.24501244479352474\n",
      "  (1, 9063)\t0.2627566245892988\n",
      "  (1, 9450)\t0.23248469716963652\n",
      "  (1, 9332)\t0.24501244479352474\n",
      "  (1, 5830)\t0.2627566245892988\n",
      "  (1, 5807)\t0.14126645609539937\n",
      "  (1, 2235)\t0.2416036238600553\n",
      "  (1, 1796)\t0.2627566245892988\n",
      "  (1, 2309)\t0.24383099392760726\n",
      "  (1, 10710)\t0.2627566245892988\n",
      "  (1, 5796)\t0.2627566245892988\n",
      "  (2, 2098)\t0.24635977937724748\n",
      "  :\t:\n",
      "  (41930, 1774)\t0.3759129704729533\n",
      "  (41930, 9730)\t0.3005367009911988\n",
      "  (41930, 5172)\t0.25031041600738246\n",
      "  (41930, 4707)\t0.3390834916266274\n",
      "  (41930, 2949)\t0.22699150735432225\n",
      "  (41930, 5986)\t0.1399423193927312\n",
      "  (41931, 2422)\t0.25900702891742433\n",
      "  (41931, 9913)\t0.22297257811864787\n",
      "  (41931, 6720)\t0.24196980232414264\n",
      "  (41931, 4091)\t0.3749363955355291\n",
      "  (41931, 10398)\t0.25900702891742433\n",
      "  (41931, 7819)\t0.25900702891742433\n",
      "  (41931, 9698)\t0.2104861666496092\n",
      "  (41931, 4955)\t0.25900702891742433\n",
      "  (41931, 1406)\t0.25900702891742433\n",
      "  (41931, 4624)\t0.23131115561257937\n",
      "  (41931, 4819)\t0.230577309036551\n",
      "  (41931, 8473)\t0.1826512744140657\n",
      "  (41931, 4540)\t0.21519684144522105\n",
      "  (41931, 3409)\t0.17396803897713004\n",
      "  (41931, 7018)\t0.1380107796793343\n",
      "  (41931, 3864)\t0.16897607454000077\n",
      "  (41931, 5881)\t0.2048166198470919\n",
      "  (41931, 4214)\t0.1900349526572487\n",
      "  (41931, 10678)\t0.17076035416773097\n"
     ]
    }
   ],
   "source": [
    "print(X_train_features)"
   ]
  },
  {
   "cell_type": "markdown",
   "metadata": {
    "id": "q86FvELbU_SV"
   },
   "source": [
    "Training the Model"
   ]
  },
  {
   "cell_type": "markdown",
   "metadata": {
    "id": "hV6BAIZQVBbo"
   },
   "source": [
    "Logistic Regression"
   ]
  },
  {
   "cell_type": "code",
   "execution_count": 17,
   "metadata": {
    "id": "1JeAOwzpUv0V"
   },
   "outputs": [],
   "source": [
    "model = LogisticRegression()"
   ]
  },
  {
   "cell_type": "code",
   "execution_count": 18,
   "metadata": {
    "colab": {
     "base_uri": "https://localhost:8080/"
    },
    "id": "gWGRHWAPVI_z",
    "outputId": "1c5e15dd-0e07-4871-c4fa-b908ee400b55"
   },
   "outputs": [
    {
     "data": {
      "text/plain": [
       "LogisticRegression()"
      ]
     },
     "execution_count": 18,
     "metadata": {},
     "output_type": "execute_result"
    }
   ],
   "source": [
    "# training the Logistic Regression model with the training data\n",
    "model.fit(X_train_features, Y_train)"
   ]
  },
  {
   "cell_type": "markdown",
   "metadata": {
    "id": "wZ01fa8dVeL5"
   },
   "source": [
    "Evaluating the trained model"
   ]
  },
  {
   "cell_type": "code",
   "execution_count": 19,
   "metadata": {
    "id": "ExiF2kKxVYtC"
   },
   "outputs": [],
   "source": [
    "# prediction on training \n",
    "\n",
    "prediction_on_training_data = model.predict(X_train_features)\n",
    "accuracy_on_training_data = accuracy_score(Y_train, prediction_on_training_data)"
   ]
  },
  {
   "cell_type": "code",
   "execution_count": 20,
   "metadata": {
    "colab": {
     "base_uri": "https://localhost:8080/"
    },
    "id": "o7t4DI5UWCkB",
    "outputId": "49fafbb0-0e7f-40c7-9ab7-4aea165731ee"
   },
   "outputs": [
    {
     "name": "stdout",
     "output_type": "stream",
     "text": [
      "Accuracy on training data :  0.9989268339215873\n"
     ]
    }
   ],
   "source": [
    "print('Accuracy on training data : ', accuracy_on_training_data)"
   ]
  },
  {
   "cell_type": "code",
   "execution_count": 21,
   "metadata": {
    "id": "cTin5rXTWKg3"
   },
   "outputs": [],
   "source": [
    "# prediction on test \n",
    "\n",
    "prediction_on_test_data = model.predict(X_test_features)\n",
    "accuracy_on_test_data = accuracy_score(Y_test, prediction_on_test_data)"
   ]
  },
  {
   "cell_type": "code",
   "execution_count": 22,
   "metadata": {
    "colab": {
     "base_uri": "https://localhost:8080/"
    },
    "id": "4gvoMK4OWnJY",
    "outputId": "7bf56da4-1987-4828-ea00-95c30fb083d1"
   },
   "outputs": [
    {
     "name": "stdout",
     "output_type": "stream",
     "text": [
      "Accuracy on test data :  0.9981877146127432\n"
     ]
    }
   ],
   "source": [
    "print('Accuracy on test data : ', accuracy_on_test_data)"
   ]
  },
  {
   "cell_type": "markdown",
   "metadata": {
    "id": "bXdOKxYAXaHC"
   },
   "source": [
    "Building a Predictive System"
   ]
  },
  {
   "cell_type": "code",
   "execution_count": 23,
   "metadata": {
    "colab": {
     "base_uri": "https://localhost:8080/"
    },
    "id": "h60z1__mWql6",
    "outputId": "3aac53f3-13f2-4afb-e9f2-75d337cbcd44"
   },
   "outputs": [
    {
     "name": "stdout",
     "output_type": "stream",
     "text": [
      "[1]\n",
      "Suspicious message\n"
     ]
    }
   ],
   "source": [
    "input_mail = [\"we will assasin you\"]\n",
    "\n",
    "input_data_features = feature_extraction.transform(input_mail)\n",
    "\n",
    "# making prediction\n",
    "\n",
    "prediction = model.predict(input_data_features)\n",
    "print(prediction)\n",
    "\n",
    "\n",
    "if (prediction[0]==1):\n",
    "  print('Suspicious message')\n",
    "\n",
    "else:\n",
    "  print('Not suspicious')"
   ]
  },
  {
   "cell_type": "code",
   "execution_count": 26,
   "metadata": {
    "id": "v_LqbM_ZYwS1"
   },
   "outputs": [
    {
     "name": "stdout",
     "output_type": "stream",
     "text": [
      "[1]\n",
      "Suspicious message\n"
     ]
    }
   ],
   "source": [
    "input_mail = [\"kill you\"]\n",
    "\n",
    "\n",
    "input_data_features = feature_extraction.transform(input_mail)\n",
    "\n",
    "# making prediction\n",
    "\n",
    "prediction = model.predict(input_data_features)\n",
    "print(prediction)\n",
    "\n",
    "\n",
    "if (prediction[0]==1):\n",
    "  print('Suspicious message')\n",
    "\n",
    "else:\n",
    "  print('Not suspicious')"
   ]
  },
  {
   "cell_type": "code",
   "execution_count": 25,
   "metadata": {},
   "outputs": [
    {
     "name": "stdout",
     "output_type": "stream",
     "text": [
      "[0]\n",
      "Not suspicious\n"
     ]
    }
   ],
   "source": [
    "input_mail = [\"i will go for a walk\"]\n",
    "\n",
    "input_data_features = feature_extraction.transform(input_mail)\n",
    "\n",
    "# making prediction\n",
    "\n",
    "prediction = model.predict(input_data_features)\n",
    "print(prediction)\n",
    "\n",
    "\n",
    "if (prediction[0]==1):\n",
    "  print('Suspicious message')\n",
    "\n",
    "else:\n",
    "  print('Not suspicious')"
   ]
  },
  {
   "cell_type": "code",
   "execution_count": null,
   "metadata": {},
   "outputs": [],
   "source": []
  }
 ],
 "metadata": {
  "colab": {
   "collapsed_sections": [],
   "name": "Project 17. Spam Mail Prediction using Machine Learning.ipynb",
   "provenance": []
  },
  "kernelspec": {
   "display_name": "Python 3 (ipykernel)",
   "language": "python",
   "name": "python3"
  },
  "language_info": {
   "codemirror_mode": {
    "name": "ipython",
    "version": 3
   },
   "file_extension": ".py",
   "mimetype": "text/x-python",
   "name": "python",
   "nbconvert_exporter": "python",
   "pygments_lexer": "ipython3",
   "version": "3.10.1"
  }
 },
 "nbformat": 4,
 "nbformat_minor": 1
}
